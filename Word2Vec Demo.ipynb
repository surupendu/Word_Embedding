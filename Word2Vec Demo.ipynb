{
 "cells": [
  {
   "cell_type": "code",
   "execution_count": 3,
   "metadata": {},
   "outputs": [],
   "source": [
    "import numpy as np\n",
    "from collections import defaultdict"
   ]
  },
  {
   "cell_type": "code",
   "execution_count": 9,
   "metadata": {},
   "outputs": [],
   "source": [
    "class Word2Vec:\n",
    "    def __init__(self,epochs):\n",
    "        self.n = 15\n",
    "        self.epochs = epochs\n",
    "        self.learning_rate = 0.01\n",
    "        self.window = 3\n",
    "    \n",
    "    def prep_training_data(self,corpus):\n",
    "        self.word_count = defaultdict(int)\n",
    "        for row in corpus:\n",
    "            tokens = row.split()\n",
    "            for word in tokens:\n",
    "                self.word_count[word]  += 1\n",
    "        \n",
    "        self.vocab_count = len(self.word_count.keys())\n",
    "        self.word_list = sorted(self.word_count.keys(),reverse=False)\n",
    "        self.word_index = dict((word,i) for word,i in enumerate(self.word_list))\n",
    "        self.index_word = dict((i,word) for word,i in enumerate(self.word_list))\n",
    "        \n",
    "        training_data = []\n",
    "        \n",
    "        for row in corpus:\n",
    "            tokens = row.split()\n",
    "            sentence_length = len(tokens)\n",
    "            for i,word in enumerate(tokens):\n",
    "                word_target = self.onehotvector(word)\n",
    "                word_context = []\n",
    "                for j in range(i-self.window,i+self.window+1):\n",
    "                    if j!=i and j<sentence_length-1 and j>=0:\n",
    "                        word_context.append(self.onehotvector(tokens[j]))\n",
    "                training_data.append([word_target,word_context])\n",
    "        return training_data,self.word_list\n",
    "        \n",
    "    \n",
    "    def forward(self,x):\n",
    "        h = np.dot(self.w1.T,x)\n",
    "        u_c = np.dot(self.w2.T,h)\n",
    "        y = self.softmax(u_c)\n",
    "        return y,u_c,h\n",
    "    \n",
    "    def backward(self,e,h,x):\n",
    "        dl_w1 = np.outer(h,e)\n",
    "        dl_w2 = np.outer(x,np.dot(self.w2,e.T))\n",
    "        self.w1 = self.w1 - (self.learning_rate * dl_w1)\n",
    "        self.w2 = self.w2 - (self.learning_rate * dl_w2)\n",
    "        pass\n",
    "\n",
    "    \n",
    "    def softmax(self,x):\n",
    "        exp = np.exp(x - np.max(x))\n",
    "        return exp/exp.sum(axis=0)\n",
    "    \n",
    "        \n",
    "    def train(self,training_data):\n",
    "        self.w1 = np.random.uniform(-0.8,0.8,(self.vocab_count,self.n))\n",
    "        self.w2 = np.random.uniform(-0.8,0.8,(self.n,self.vocab_count))\n",
    "        \n",
    "        for i in range(0,self.epochs):\n",
    "            self.loss = 0\n",
    "            for word_target,word_context in training_data:\n",
    "                y_pred,u_c,h = self.forward(word_target)\n",
    "                EI = np.sum([np.subtract(y_pred,word) for word in word_context],axis=0)\n",
    "                self.backward(EI,h,word_target)\n",
    "                self.loss += -np.sum([u_c[word.index(1)] for word in word_context]) + len(word_context) * np.log(np.sum(np.exp(u_c)))\n",
    "            print(\"Epoch:\",i,\"Loss:\",self.loss)\n",
    "        pass\n",
    "        \n",
    "    def onehotvector(self,word):\n",
    "        word_vec = [0 for i in range(0,self.vocab_count)]\n",
    "        index = self.index_word[word]\n",
    "        word_vec[index] = 1\n",
    "        return word_vec\n",
    "        \n",
    "    def word_vector(self,word):\n",
    "        w_index = self.index_word[word]\n",
    "        vector = self.w1[w_index]\n",
    "        return vector\n",
    "    \n",
    "    def display_onehot(self):\n",
    "        display_list = {}\n",
    "        for word in self.word_list:\n",
    "            one_hot_word = self.onehotvector(word)\n",
    "            display_list[word] = one_hot_word\n",
    "        return display_list\n",
    "        \n",
    "    \n",
    "    def word_sim(self,word,topn):\n",
    "        word_similarity = {}\n",
    "        index = self.index_word[word]\n",
    "        vector1 = self.w1[index]\n",
    "        for i in range(self.vocab_count):\n",
    "            vector2 = self.w1[i]\n",
    "            dot_pdt = np.dot(vector1,vector2)\n",
    "            magnitude = np.linalg.norm(vector1) * np.linalg.norm(vector2)\n",
    "            similarity = dot_pdt/magnitude\n",
    "            word_similarity[self.word_index[i]] = similarity\n",
    "        sim_words = sorted(word_similarity.items(),key=lambda word :word[1],reverse=True)\n",
    "        print(sim_words[:topn])"
   ]
  },
  {
   "cell_type": "code",
   "execution_count": 10,
   "metadata": {},
   "outputs": [
    {
     "name": "stdout",
     "output_type": "stream",
     "text": [
      "Epoch: 0 Loss: 191.97098257559253\n",
      "Epoch: 1 Loss: 191.9610841192932\n",
      "Epoch: 2 Loss: 192.11066690094353\n",
      "Epoch: 3 Loss: 192.42402044272671\n",
      "Epoch: 4 Loss: 192.90789399078233\n",
      "Epoch: 5 Loss: 193.5718694285248\n",
      "Epoch: 6 Loss: 194.4288482678337\n",
      "Epoch: 7 Loss: 195.49568198330982\n"
     ]
    }
   ],
   "source": [
    "corpus = [\n",
    "    'he is a king',\n",
    "    'she is a queen',\n",
    "    'he is a man',\n",
    "    'she is a woman',\n",
    "    'warsaw is poland capital',\n",
    "    'berlin is germany capital',\n",
    "    'paris is france capital',\n",
    "]\n",
    "\n",
    "word2vec = Word2Vec(8)\n",
    "training_data,word_list = word2vec.prep_training_data(corpus)\n",
    "word2vec.train(training_data)"
   ]
  },
  {
   "cell_type": "markdown",
   "metadata": {},
   "source": [
    "### One hot encoded vectors"
   ]
  },
  {
   "cell_type": "code",
   "execution_count": 113,
   "metadata": {},
   "outputs": [
    {
     "name": "stdout",
     "output_type": "stream",
     "text": [
      "Sample of training data: [[[0, 0, 0, 0, 0, 1, 0, 0, 0, 0, 0, 0, 0, 0, 0], [[0, 0, 0, 0, 0, 0, 1, 0, 0, 0, 0, 0, 0, 0, 0], [1, 0, 0, 0, 0, 0, 0, 0, 0, 0, 0, 0, 0, 0, 0]]], [[0, 0, 0, 0, 0, 0, 1, 0, 0, 0, 0, 0, 0, 0, 0], [[0, 0, 0, 0, 0, 1, 0, 0, 0, 0, 0, 0, 0, 0, 0], [1, 0, 0, 0, 0, 0, 0, 0, 0, 0, 0, 0, 0, 0, 0]]], [[1, 0, 0, 0, 0, 0, 0, 0, 0, 0, 0, 0, 0, 0, 0], [[0, 0, 0, 0, 0, 1, 0, 0, 0, 0, 0, 0, 0, 0, 0], [0, 0, 0, 0, 0, 0, 1, 0, 0, 0, 0, 0, 0, 0, 0]]]]\n",
      "\n",
      "Vocabulary: ['a', 'berlin', 'capital', 'france', 'germany', 'he', 'is', 'king', 'man', 'paris', 'poland', 'queen', 'she', 'warsaw', 'woman']\n"
     ]
    }
   ],
   "source": [
    "print(\"Sample of training data:\",training_data[0:3])\n",
    "print(\"\\nVocabulary:\",word_list)"
   ]
  },
  {
   "cell_type": "code",
   "execution_count": 114,
   "metadata": {},
   "outputs": [
    {
     "data": {
      "text/plain": [
       "{'a': [1, 0, 0, 0, 0, 0, 0, 0, 0, 0, 0, 0, 0, 0, 0],\n",
       " 'berlin': [0, 1, 0, 0, 0, 0, 0, 0, 0, 0, 0, 0, 0, 0, 0],\n",
       " 'capital': [0, 0, 1, 0, 0, 0, 0, 0, 0, 0, 0, 0, 0, 0, 0],\n",
       " 'france': [0, 0, 0, 1, 0, 0, 0, 0, 0, 0, 0, 0, 0, 0, 0],\n",
       " 'germany': [0, 0, 0, 0, 1, 0, 0, 0, 0, 0, 0, 0, 0, 0, 0],\n",
       " 'he': [0, 0, 0, 0, 0, 1, 0, 0, 0, 0, 0, 0, 0, 0, 0],\n",
       " 'is': [0, 0, 0, 0, 0, 0, 1, 0, 0, 0, 0, 0, 0, 0, 0],\n",
       " 'king': [0, 0, 0, 0, 0, 0, 0, 1, 0, 0, 0, 0, 0, 0, 0],\n",
       " 'man': [0, 0, 0, 0, 0, 0, 0, 0, 1, 0, 0, 0, 0, 0, 0],\n",
       " 'paris': [0, 0, 0, 0, 0, 0, 0, 0, 0, 1, 0, 0, 0, 0, 0],\n",
       " 'poland': [0, 0, 0, 0, 0, 0, 0, 0, 0, 0, 1, 0, 0, 0, 0],\n",
       " 'queen': [0, 0, 0, 0, 0, 0, 0, 0, 0, 0, 0, 1, 0, 0, 0],\n",
       " 'she': [0, 0, 0, 0, 0, 0, 0, 0, 0, 0, 0, 0, 1, 0, 0],\n",
       " 'warsaw': [0, 0, 0, 0, 0, 0, 0, 0, 0, 0, 0, 0, 0, 1, 0],\n",
       " 'woman': [0, 0, 0, 0, 0, 0, 0, 0, 0, 0, 0, 0, 0, 0, 1]}"
      ]
     },
     "execution_count": 114,
     "metadata": {},
     "output_type": "execute_result"
    }
   ],
   "source": [
    "#Representation of vocabulary as one hot encoded vector\n",
    "word2vec.display_onehot()"
   ]
  },
  {
   "cell_type": "markdown",
   "metadata": {},
   "source": [
    "### Find similar words"
   ]
  },
  {
   "cell_type": "code",
   "execution_count": 92,
   "metadata": {},
   "outputs": [
    {
     "name": "stdout",
     "output_type": "stream",
     "text": [
      "[('capital', 1.0), ('germany', 0.3547085667918233), ('she', 0.34273032534803344)]\n"
     ]
    }
   ],
   "source": [
    "#word2vec.word_vector('he')\n",
    "word2vec.word_sim('capital',3)"
   ]
  },
  {
   "cell_type": "markdown",
   "metadata": {},
   "source": [
    "### Using gensim for word2vec"
   ]
  },
  {
   "cell_type": "code",
   "execution_count": 142,
   "metadata": {},
   "outputs": [],
   "source": [
    "from gensim.test.utils import common_texts\n",
    "from gensim.models import Word2Vec\n",
    "from matplotlib import pyplot"
   ]
  },
  {
   "cell_type": "code",
   "execution_count": 120,
   "metadata": {},
   "outputs": [
    {
     "data": {
      "text/plain": [
       "[['human', 'interface', 'computer'],\n",
       " ['survey', 'user', 'computer', 'system', 'response', 'time'],\n",
       " ['eps', 'user', 'interface', 'system'],\n",
       " ['system', 'human', 'system', 'eps'],\n",
       " ['user', 'response', 'time'],\n",
       " ['trees'],\n",
       " ['graph', 'trees'],\n",
       " ['graph', 'minors', 'trees'],\n",
       " ['graph', 'minors', 'survey']]"
      ]
     },
     "execution_count": 120,
     "metadata": {},
     "output_type": "execute_result"
    }
   ],
   "source": [
    "common_texts"
   ]
  },
  {
   "cell_type": "code",
   "execution_count": 165,
   "metadata": {},
   "outputs": [],
   "source": [
    "model = Word2Vec(common_texts,size=100,window=5,sg=1,min_count=1,alpha=0.025)\n",
    "# input: common_texts\n",
    "# size: dimension of vector\n",
    "# window: size of window\n",
    "# sg: 1 for skip gram, 0 for cbow\n",
    "# min_count: specify the minimum frequency of words that should be considered\n",
    "# alpha: learning rate"
   ]
  },
  {
   "cell_type": "markdown",
   "metadata": {},
   "source": [
    "### List of words in vocab"
   ]
  },
  {
   "cell_type": "code",
   "execution_count": 166,
   "metadata": {},
   "outputs": [
    {
     "data": {
      "text/plain": [
       "['human',\n",
       " 'interface',\n",
       " 'computer',\n",
       " 'survey',\n",
       " 'user',\n",
       " 'system',\n",
       " 'response',\n",
       " 'time',\n",
       " 'eps',\n",
       " 'trees',\n",
       " 'graph',\n",
       " 'minors']"
      ]
     },
     "execution_count": 166,
     "metadata": {},
     "output_type": "execute_result"
    }
   ],
   "source": [
    "list(model.wv.vocab)"
   ]
  },
  {
   "cell_type": "markdown",
   "metadata": {},
   "source": [
    "### List of vectors"
   ]
  },
  {
   "cell_type": "code",
   "execution_count": 167,
   "metadata": {},
   "outputs": [
    {
     "name": "stdout",
     "output_type": "stream",
     "text": [
      "human [ 0.00135937 -0.00142867 -0.00339325 -0.00175615 -0.0008649  -0.00356273\n",
      " -0.00087466  0.00218644 -0.00072929  0.00036232  0.00373805 -0.00079552\n",
      "  0.00356059 -0.00160874 -0.00128751 -0.00417257 -0.00305715  0.00424898\n",
      "  0.00259151  0.00418183 -0.00050383  0.00097874 -0.00099089  0.00104628\n",
      "  0.00106695 -0.00123584  0.00051939  0.0048881  -0.00097304  0.00231959\n",
      " -0.00347163  0.00334222  0.00212746 -0.00197665  0.00023775  0.00137642\n",
      "  0.00102056  0.00019557  0.0005028  -0.00388056  0.00198457 -0.0029568\n",
      "  0.00205558 -0.0018121  -0.00209527 -0.00131441 -0.00074292  0.00370488\n",
      "  0.0048343  -0.0042116   0.00378423 -0.0019272   0.0047893   0.00089463\n",
      "  0.00242588 -0.00077963 -0.00034799 -0.00381201 -0.00139947  0.00403043\n",
      " -0.00095225 -0.00385556  0.00100864 -0.00069403 -0.00224133  0.00254339\n",
      "  0.00132734  0.00314969  0.00052397  0.00187758  0.0034403  -0.00365402\n",
      " -0.00338135  0.00294793 -0.00351167 -0.00329832  0.00321953  0.00228643\n",
      "  0.00121263  0.00194458 -0.00098558 -0.00178204  0.00343424 -0.00176348\n",
      " -0.00410561 -0.00222535 -0.00161939 -0.00424289  0.00363523 -0.00285609\n",
      "  0.00102875 -0.00114107  0.00491836 -0.00107898  0.00424894  0.0047131\n",
      "  0.00164886 -0.00278839 -0.00138243 -0.00071102]\n"
     ]
    },
    {
     "name": "stderr",
     "output_type": "stream",
     "text": [
      "C:\\Users\\91940\\AppData\\Local\\Continuum\\anaconda3\\lib\\site-packages\\ipykernel_launcher.py:1: DeprecationWarning: Call to deprecated `__getitem__` (Method will be removed in 4.0.0, use self.wv.__getitem__() instead).\n",
      "  \"\"\"Entry point for launching an IPython kernel.\n"
     ]
    }
   ],
   "source": [
    "vectors = model[model.wv.vocab]\n",
    "print(list(model.wv.vocab)[0],vectors[0])"
   ]
  },
  {
   "cell_type": "markdown",
   "metadata": {},
   "source": [
    "### Project word embeddings in vector space"
   ]
  },
  {
   "cell_type": "code",
   "execution_count": 168,
   "metadata": {},
   "outputs": [],
   "source": [
    "from sklearn.decomposition import PCA"
   ]
  },
  {
   "cell_type": "code",
   "execution_count": 169,
   "metadata": {},
   "outputs": [
    {
     "name": "stderr",
     "output_type": "stream",
     "text": [
      "C:\\Users\\91940\\AppData\\Local\\Continuum\\anaconda3\\lib\\site-packages\\ipykernel_launcher.py:1: DeprecationWarning: Call to deprecated `__getitem__` (Method will be removed in 4.0.0, use self.wv.__getitem__() instead).\n",
      "  \"\"\"Entry point for launching an IPython kernel.\n"
     ]
    },
    {
     "data": {
      "image/png": "[encoded data removed]",
      "text/plain": [
       "<Figure size 432x288 with 1 Axes>"
      ]
     },
     "metadata": {
      "needs_background": "light"
     },
     "output_type": "display_data"
    }
   ],
   "source": [
    "vectors = model[model.wv.vocab]\n",
    "pca = PCA(n_components=2)\n",
    "result = pca.fit_transform(vectors)\n",
    "\n",
    "pyplot.scatter(result[:,0],result[:,1])\n",
    "words = list(model.wv.vocab)\n",
    "\n",
    "for i,word in enumerate(words):\n",
    "    pyplot.annotate(word,xy=(result[i,0],result[i,1]))\n",
    "pyplot.show()"
   ]
  },
  {
   "cell_type": "markdown",
   "metadata": {},
   "source": [
    "### Using gensim for FastText"
   ]
  },
  {
   "cell_type": "code",
   "execution_count": 175,
   "metadata": {},
   "outputs": [],
   "source": [
    "from gensim.test.utils import common_texts\n",
    "from gensim.models import FastText"
   ]
  },
  {
   "cell_type": "code",
   "execution_count": 174,
   "metadata": {},
   "outputs": [
    {
     "data": {
      "text/plain": [
       "[['human', 'interface', 'computer'],\n",
       " ['survey', 'user', 'computer', 'system', 'response', 'time'],\n",
       " ['eps', 'user', 'interface', 'system'],\n",
       " ['system', 'human', 'system', 'eps'],\n",
       " ['user', 'response', 'time'],\n",
       " ['trees'],\n",
       " ['graph', 'trees'],\n",
       " ['graph', 'minors', 'trees'],\n",
       " ['graph', 'minors', 'survey']]"
      ]
     },
     "execution_count": 174,
     "metadata": {},
     "output_type": "execute_result"
    }
   ],
   "source": [
    "common_texts"
   ]
  },
  {
   "cell_type": "markdown",
   "metadata": {},
   "source": [
    "#### Define FastText model"
   ]
  },
  {
   "cell_type": "code",
   "execution_count": 183,
   "metadata": {},
   "outputs": [],
   "source": [
    "model = FastText(common_texts,alpha=0.025,window=5,min_count=1,sg=1,min_n=3)\n",
    "\n",
    "# alpha: Learning Rate\n",
    "# window: window size for training\n",
    "# min_count: minimum frequeny of words to be considered\n",
    "# sg: 1 for skip gram 0 for cbow\n",
    "# min_n: minimum number of ngrams to be used"
   ]
  },
  {
   "cell_type": "markdown",
   "metadata": {},
   "source": [
    "###### Check whether a word is in vocabulary"
   ]
  },
  {
   "cell_type": "code",
   "execution_count": 199,
   "metadata": {},
   "outputs": [
    {
     "name": "stdout",
     "output_type": "stream",
     "text": [
      "True\n",
      "False\n",
      "[ 2.1286066e-04  1.0580663e-03 -2.2376154e-03  5.2260025e-04\n",
      "  5.2873517e-04 -2.3151691e-04 -1.5589088e-04  2.0226570e-04\n",
      " -3.1903835e-03  1.6490557e-03 -5.4424683e-05 -2.6254871e-04\n",
      " -1.0331337e-03 -8.9286076e-04  1.1941320e-03  5.8650126e-04\n",
      " -4.1125005e-04  9.8196918e-04  1.0749986e-03  5.5427826e-04\n",
      "  8.7111566e-04 -9.9337485e-05 -5.4518157e-04 -8.0522121e-04\n",
      " -7.1303942e-04 -2.6796493e-05 -9.9930898e-05  1.0223496e-04\n",
      " -1.8784079e-03 -2.1518854e-04 -1.1238595e-03 -1.9411143e-04\n",
      " -1.3706944e-04 -1.9029799e-03 -8.3387410e-04  1.0304676e-03\n",
      "  1.5214080e-03 -2.2575969e-03 -1.2322196e-03  1.9731469e-04\n",
      " -1.2151604e-03 -9.5418456e-04 -1.3557049e-03 -4.8256738e-04\n",
      " -4.6164484e-04 -2.2357256e-04 -2.5121297e-03 -6.6767773e-04\n",
      " -4.7834101e-04 -5.0782121e-04 -1.0249245e-03 -1.5683008e-03\n",
      " -8.2716858e-04 -5.4294540e-04  4.2148493e-04  4.8013063e-04\n",
      "  5.0206837e-04  8.1715034e-04 -4.9071317e-05 -4.0002132e-04\n",
      " -3.1691321e-04  9.8143471e-04  9.8174333e-04 -2.7024408e-03\n",
      "  1.1128940e-03  1.4895368e-04  1.5588960e-06 -7.7586313e-04\n",
      "  4.8791192e-04  9.7567885e-04 -1.0177552e-03  9.2388823e-04\n",
      "  7.8631088e-04 -1.0632945e-03  7.3449453e-04 -1.3995253e-03\n",
      "  8.1455226e-05 -6.4415060e-04  4.1571818e-04 -1.4310185e-04\n",
      " -8.0900342e-04  2.6794814e-04 -1.4767940e-03  2.7894491e-06\n",
      " -4.5609512e-04 -2.7382610e-04 -3.1622866e-04  1.2230461e-03\n",
      "  3.3333048e-03  4.9011799e-04  1.1221729e-03  1.8607050e-03\n",
      "  7.9508522e-04 -1.1002260e-03  9.2583639e-04 -1.7231115e-03\n",
      " -3.8894967e-04 -1.8159666e-03  3.8799422e-04  1.4215293e-03]\n",
      "[ 5.5662880e-04  1.5740643e-03 -2.5512723e-03  6.3712517e-04\n",
      "  2.3997291e-04 -8.6386921e-04  3.2809272e-04 -7.7687699e-04\n",
      " -3.5894245e-03  1.3226516e-03 -7.0873095e-04 -7.6336518e-04\n",
      " -7.1492628e-04 -2.9608171e-04  1.1132952e-03  2.8215998e-04\n",
      " -1.3383389e-04  1.2166305e-03  2.5296022e-04 -4.1049047e-04\n",
      "  1.4703058e-03 -2.8842269e-05 -7.9157541e-04  2.7411844e-04\n",
      " -8.4173615e-04 -2.0748794e-04 -8.8110904e-04  5.0990022e-04\n",
      " -1.9946638e-03 -8.0256164e-04 -1.2147236e-03 -1.0899517e-04\n",
      " -1.4923251e-04 -1.8314675e-03 -1.5284865e-03  2.1495202e-03\n",
      "  1.5173898e-03 -1.1868497e-03  4.4707538e-04  2.6970220e-04\n",
      " -2.3411625e-04 -1.8618500e-03 -2.1460559e-03 -1.0292941e-03\n",
      " -1.3089570e-03  7.8131160e-04 -1.3618007e-03  4.3748537e-04\n",
      " -5.2440952e-05  2.0555402e-04 -1.2934710e-03 -1.9882431e-03\n",
      " -1.1430915e-03 -7.7125512e-04 -2.5489202e-04  6.8926683e-04\n",
      "  1.0684100e-04  1.1927565e-03 -4.0073227e-04  8.1749189e-05\n",
      "  8.2581588e-05  2.6335617e-04  7.3453150e-04 -2.3272857e-03\n",
      "  1.7992690e-03  3.2915280e-04  4.3418774e-04 -1.0807863e-03\n",
      " -6.5961001e-05  3.9269161e-04 -1.9199803e-03  1.0333768e-03\n",
      "  1.1217543e-03 -1.4610515e-03 -5.0938608e-05 -1.5551141e-03\n",
      "  1.1016907e-03 -4.0358453e-04  6.2104827e-04  5.5106456e-04\n",
      " -1.1404267e-03  7.5728557e-04 -1.7133334e-03  4.6966103e-04\n",
      " -1.3395498e-03 -7.4788695e-04 -5.7865272e-04  2.3077554e-03\n",
      "  3.7540344e-03  1.2112043e-03  2.1622987e-03  1.6866561e-03\n",
      "  1.2833636e-03 -2.3175581e-04  2.1885834e-03 -2.2524986e-03\n",
      "  6.5927877e-04 -1.5173441e-03 -2.2062850e-04  1.6944276e-03]\n"
     ]
    },
    {
     "name": "stderr",
     "output_type": "stream",
     "text": [
      "C:\\Users\\91940\\AppData\\Local\\Continuum\\anaconda3\\lib\\site-packages\\ipykernel_launcher.py:4: DeprecationWarning: Call to deprecated `__getitem__` (Method will be removed in 4.0.0, use self.wv.__getitem__() instead).\n",
      "  after removing the cwd from sys.path.\n",
      "C:\\Users\\91940\\AppData\\Local\\Continuum\\anaconda3\\lib\\site-packages\\ipykernel_launcher.py:6: DeprecationWarning: Call to deprecated `__getitem__` (Method will be removed in 4.0.0, use self.wv.__getitem__() instead).\n",
      "  \n"
     ]
    }
   ],
   "source": [
    "print(\"computer\" in model.wv.vocab)\n",
    "print(\"computers\" in model.wv.vocab)\n",
    "\n",
    "print(model['computer'])\n",
    "# Note: vector for computers is still availables as we have a word computer\n",
    "print(model['computers'])"
   ]
  },
  {
   "cell_type": "code",
   "execution_count": 200,
   "metadata": {},
   "outputs": [
    {
     "name": "stderr",
     "output_type": "stream",
     "text": [
      "C:\\Users\\91940\\AppData\\Local\\Continuum\\anaconda3\\lib\\site-packages\\ipykernel_launcher.py:2: DeprecationWarning: Call to deprecated `__getitem__` (Method will be removed in 4.0.0, use self.wv.__getitem__() instead).\n",
      "  \n"
     ]
    },
    {
     "ename": "KeyError",
     "evalue": "'all ngrams for word axis absent from model'",
     "output_type": "error",
     "traceback": [
      "\u001b[1;31m---------------------------------------------------------------------------\u001b[0m",
      "\u001b[1;31mKeyError\u001b[0m                                  Traceback (most recent call last)",
      "\u001b[1;32m<ipython-input-200-30268e11e3d1>\u001b[0m in \u001b[0;36m<module>\u001b[1;34m\u001b[0m\n\u001b[0;32m      1\u001b[0m \u001b[1;31m# ngram from sample words also do not match\u001b[0m\u001b[1;33m\u001b[0m\u001b[1;33m\u001b[0m\u001b[1;33m\u001b[0m\u001b[0m\n\u001b[1;32m----> 2\u001b[1;33m \u001b[0mmodel\u001b[0m\u001b[1;33m[\u001b[0m\u001b[1;34m'axis'\u001b[0m\u001b[1;33m]\u001b[0m\u001b[1;33m\u001b[0m\u001b[1;33m\u001b[0m\u001b[0m\n\u001b[0m",
      "\u001b[1;32m~\\AppData\\Local\\Continuum\\anaconda3\\lib\\site-packages\\gensim\\utils.py\u001b[0m in \u001b[0;36mnew_func1\u001b[1;34m(*args, **kwargs)\u001b[0m\n\u001b[0;32m   1445\u001b[0m                     \u001b[0mstacklevel\u001b[0m\u001b[1;33m=\u001b[0m\u001b[1;36m2\u001b[0m\u001b[1;33m\u001b[0m\u001b[1;33m\u001b[0m\u001b[0m\n\u001b[0;32m   1446\u001b[0m                 )\n\u001b[1;32m-> 1447\u001b[1;33m                 \u001b[1;32mreturn\u001b[0m \u001b[0mfunc\u001b[0m\u001b[1;33m(\u001b[0m\u001b[1;33m*\u001b[0m\u001b[0margs\u001b[0m\u001b[1;33m,\u001b[0m \u001b[1;33m**\u001b[0m\u001b[0mkwargs\u001b[0m\u001b[1;33m)\u001b[0m\u001b[1;33m\u001b[0m\u001b[1;33m\u001b[0m\u001b[0m\n\u001b[0m\u001b[0;32m   1448\u001b[0m \u001b[1;33m\u001b[0m\u001b[0m\n\u001b[0;32m   1449\u001b[0m             \u001b[1;32mreturn\u001b[0m \u001b[0mnew_func1\u001b[0m\u001b[1;33m\u001b[0m\u001b[1;33m\u001b[0m\u001b[0m\n",
      "\u001b[1;32m~\\AppData\\Local\\Continuum\\anaconda3\\lib\\site-packages\\gensim\\models\\fasttext.py\u001b[0m in \u001b[0;36m__getitem__\u001b[1;34m(self, words)\u001b[0m\n\u001b[0;32m    743\u001b[0m \u001b[1;33m\u001b[0m\u001b[0m\n\u001b[0;32m    744\u001b[0m         \"\"\"\n\u001b[1;32m--> 745\u001b[1;33m         \u001b[1;32mreturn\u001b[0m \u001b[0mself\u001b[0m\u001b[1;33m.\u001b[0m\u001b[0mwv\u001b[0m\u001b[1;33m.\u001b[0m\u001b[0m__getitem__\u001b[0m\u001b[1;33m(\u001b[0m\u001b[0mwords\u001b[0m\u001b[1;33m)\u001b[0m\u001b[1;33m\u001b[0m\u001b[1;33m\u001b[0m\u001b[0m\n\u001b[0m\u001b[0;32m    746\u001b[0m \u001b[1;33m\u001b[0m\u001b[0m\n\u001b[0;32m    747\u001b[0m     \u001b[1;33m@\u001b[0m\u001b[0mdeprecated\u001b[0m\u001b[1;33m(\u001b[0m\u001b[1;34m\"Method will be removed in 4.0.0, use self.wv.__contains__() instead\"\u001b[0m\u001b[1;33m)\u001b[0m\u001b[1;33m\u001b[0m\u001b[1;33m\u001b[0m\u001b[0m\n",
      "\u001b[1;32m~\\AppData\\Local\\Continuum\\anaconda3\\lib\\site-packages\\gensim\\models\\keyedvectors.py\u001b[0m in \u001b[0;36m__getitem__\u001b[1;34m(self, entities)\u001b[0m\n\u001b[0;32m    347\u001b[0m         \u001b[1;32mif\u001b[0m \u001b[0misinstance\u001b[0m\u001b[1;33m(\u001b[0m\u001b[0mentities\u001b[0m\u001b[1;33m,\u001b[0m \u001b[0mstring_types\u001b[0m\u001b[1;33m)\u001b[0m\u001b[1;33m:\u001b[0m\u001b[1;33m\u001b[0m\u001b[1;33m\u001b[0m\u001b[0m\n\u001b[0;32m    348\u001b[0m             \u001b[1;31m# allow calls like trained_model['office'], as a shorthand for trained_model[['office']]\u001b[0m\u001b[1;33m\u001b[0m\u001b[1;33m\u001b[0m\u001b[1;33m\u001b[0m\u001b[0m\n\u001b[1;32m--> 349\u001b[1;33m             \u001b[1;32mreturn\u001b[0m \u001b[0mself\u001b[0m\u001b[1;33m.\u001b[0m\u001b[0mget_vector\u001b[0m\u001b[1;33m(\u001b[0m\u001b[0mentities\u001b[0m\u001b[1;33m)\u001b[0m\u001b[1;33m\u001b[0m\u001b[1;33m\u001b[0m\u001b[0m\n\u001b[0m\u001b[0;32m    350\u001b[0m \u001b[1;33m\u001b[0m\u001b[0m\n\u001b[0;32m    351\u001b[0m         \u001b[1;32mreturn\u001b[0m \u001b[0mvstack\u001b[0m\u001b[1;33m(\u001b[0m\u001b[1;33m[\u001b[0m\u001b[0mself\u001b[0m\u001b[1;33m.\u001b[0m\u001b[0mget_vector\u001b[0m\u001b[1;33m(\u001b[0m\u001b[0mentity\u001b[0m\u001b[1;33m)\u001b[0m \u001b[1;32mfor\u001b[0m \u001b[0mentity\u001b[0m \u001b[1;32min\u001b[0m \u001b[0mentities\u001b[0m\u001b[1;33m]\u001b[0m\u001b[1;33m)\u001b[0m\u001b[1;33m\u001b[0m\u001b[1;33m\u001b[0m\u001b[0m\n",
      "\u001b[1;32m~\\AppData\\Local\\Continuum\\anaconda3\\lib\\site-packages\\gensim\\models\\keyedvectors.py\u001b[0m in \u001b[0;36mget_vector\u001b[1;34m(self, word)\u001b[0m\n\u001b[0;32m    465\u001b[0m \u001b[1;33m\u001b[0m\u001b[0m\n\u001b[0;32m    466\u001b[0m     \u001b[1;32mdef\u001b[0m \u001b[0mget_vector\u001b[0m\u001b[1;33m(\u001b[0m\u001b[0mself\u001b[0m\u001b[1;33m,\u001b[0m \u001b[0mword\u001b[0m\u001b[1;33m)\u001b[0m\u001b[1;33m:\u001b[0m\u001b[1;33m\u001b[0m\u001b[1;33m\u001b[0m\u001b[0m\n\u001b[1;32m--> 467\u001b[1;33m         \u001b[1;32mreturn\u001b[0m \u001b[0mself\u001b[0m\u001b[1;33m.\u001b[0m\u001b[0mword_vec\u001b[0m\u001b[1;33m(\u001b[0m\u001b[0mword\u001b[0m\u001b[1;33m)\u001b[0m\u001b[1;33m\u001b[0m\u001b[1;33m\u001b[0m\u001b[0m\n\u001b[0m\u001b[0;32m    468\u001b[0m \u001b[1;33m\u001b[0m\u001b[0m\n\u001b[0;32m    469\u001b[0m     \u001b[1;32mdef\u001b[0m \u001b[0mwords_closer_than\u001b[0m\u001b[1;33m(\u001b[0m\u001b[0mself\u001b[0m\u001b[1;33m,\u001b[0m \u001b[0mw1\u001b[0m\u001b[1;33m,\u001b[0m \u001b[0mw2\u001b[0m\u001b[1;33m)\u001b[0m\u001b[1;33m:\u001b[0m\u001b[1;33m\u001b[0m\u001b[1;33m\u001b[0m\u001b[0m\n",
      "\u001b[1;32m~\\AppData\\Local\\Continuum\\anaconda3\\lib\\site-packages\\gensim\\models\\keyedvectors.py\u001b[0m in \u001b[0;36mword_vec\u001b[1;34m(self, word, use_norm)\u001b[0m\n\u001b[0;32m   2080\u001b[0m                 \u001b[1;32mreturn\u001b[0m \u001b[0mword_vec\u001b[0m \u001b[1;33m/\u001b[0m \u001b[0mmax\u001b[0m\u001b[1;33m(\u001b[0m\u001b[1;36m1\u001b[0m\u001b[1;33m,\u001b[0m \u001b[0mngrams_found\u001b[0m\u001b[1;33m)\u001b[0m\u001b[1;33m\u001b[0m\u001b[1;33m\u001b[0m\u001b[0m\n\u001b[0;32m   2081\u001b[0m             \u001b[1;32melse\u001b[0m\u001b[1;33m:\u001b[0m  \u001b[1;31m# No ngrams of the word are present in self.ngrams\u001b[0m\u001b[1;33m\u001b[0m\u001b[1;33m\u001b[0m\u001b[0m\n\u001b[1;32m-> 2082\u001b[1;33m                 \u001b[1;32mraise\u001b[0m \u001b[0mKeyError\u001b[0m\u001b[1;33m(\u001b[0m\u001b[1;34m'all ngrams for word %s absent from model'\u001b[0m \u001b[1;33m%\u001b[0m \u001b[0mword\u001b[0m\u001b[1;33m)\u001b[0m\u001b[1;33m\u001b[0m\u001b[1;33m\u001b[0m\u001b[0m\n\u001b[0m\u001b[0;32m   2083\u001b[0m \u001b[1;33m\u001b[0m\u001b[0m\n\u001b[0;32m   2084\u001b[0m     \u001b[1;32mdef\u001b[0m \u001b[0minit_sims\u001b[0m\u001b[1;33m(\u001b[0m\u001b[0mself\u001b[0m\u001b[1;33m,\u001b[0m \u001b[0mreplace\u001b[0m\u001b[1;33m=\u001b[0m\u001b[1;32mFalse\u001b[0m\u001b[1;33m)\u001b[0m\u001b[1;33m:\u001b[0m\u001b[1;33m\u001b[0m\u001b[1;33m\u001b[0m\u001b[0m\n",
      "\u001b[1;31mKeyError\u001b[0m: 'all ngrams for word axis absent from model'"
     ]
    }
   ],
   "source": [
    "# ngram from sample words also do not match\n",
    "model['axis']"
   ]
  },
  {
   "cell_type": "code",
   "execution_count": 194,
   "metadata": {},
   "outputs": [
    {
     "name": "stderr",
     "output_type": "stream",
     "text": [
      "C:\\Users\\91940\\AppData\\Local\\Continuum\\anaconda3\\lib\\site-packages\\ipykernel_launcher.py:1: DeprecationWarning: Call to deprecated `similarity` (Method will be removed in 4.0.0, use self.wv.similarity() instead).\n",
      "  \"\"\"Entry point for launching an IPython kernel.\n"
     ]
    },
    {
     "data": {
      "text/plain": [
       "0.86958396"
      ]
     },
     "execution_count": 194,
     "metadata": {},
     "output_type": "execute_result"
    }
   ],
   "source": [
    "# Find similarity between words\n",
    "model.similarity('computer','computers')"
   ]
  },
  {
   "cell_type": "code",
   "execution_count": 198,
   "metadata": {},
   "outputs": [
    {
     "name": "stderr",
     "output_type": "stream",
     "text": [
      "C:\\Users\\91940\\AppData\\Local\\Continuum\\anaconda3\\lib\\site-packages\\ipykernel_launcher.py:1: DeprecationWarning: Call to deprecated `most_similar` (Method will be removed in 4.0.0, use self.wv.most_similar() instead).\n",
      "  \"\"\"Entry point for launching an IPython kernel.\n"
     ]
    },
    {
     "data": {
      "text/plain": [
       "[('human', 0.8487964868545532),\n",
       " ('survey', 0.16859087347984314),\n",
       " ('response', 0.16203370690345764),\n",
       " ('user', 0.003588993102312088),\n",
       " ('graph', -0.010339107364416122),\n",
       " ('interface', -0.014438483864068985),\n",
       " ('eps', -0.042795050889253616),\n",
       " ('system', -0.05173743516206741),\n",
       " ('computer', -0.053858812898397446),\n",
       " ('minors', -0.09194375574588776)]"
      ]
     },
     "execution_count": 198,
     "metadata": {},
     "output_type": "execute_result"
    }
   ],
   "source": [
    "# Find most similar words\n",
    "model.most_similar(\"humans\")"
   ]
  }
 ],
 "metadata": {
  "kernelspec": {
   "display_name": "Python 3",
   "language": "python",
   "name": "python3"
  },
  "language_info": {
   "codemirror_mode": {
    "name": "ipython",
    "version": 3
   },
   "file_extension": ".py",
   "mimetype": "text/x-python",
   "name": "python",
   "nbconvert_exporter": "python",
   "pygments_lexer": "ipython3",
   "version": "3.7.1"
  }
 },
 "nbformat": 4,
 "nbformat_minor": 2
}
